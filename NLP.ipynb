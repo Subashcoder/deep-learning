{
  "nbformat": 4,
  "nbformat_minor": 0,
  "metadata": {
    "colab": {
      "name": "Untitled8.ipynb",
      "provenance": [],
      "authorship_tag": "ABX9TyMIQ0HB7hSnjIJBlTHj9FF9",
      "include_colab_link": true
    },
    "kernelspec": {
      "name": "python3",
      "display_name": "Python 3"
    }
  },
  "cells": [
    {
      "cell_type": "markdown",
      "metadata": {
        "id": "view-in-github",
        "colab_type": "text"
      },
      "source": [
        "<a href=\"https://colab.research.google.com/github/Subashcoder/deep-learning/blob/master/NLP.ipynb\" target=\"_parent\"><img src=\"https://colab.research.google.com/assets/colab-badge.svg\" alt=\"Open In Colab\"/></a>"
      ]
    },
    {
      "cell_type": "code",
      "metadata": {
        "id": "s8C9fgkrh6VB",
        "colab_type": "code",
        "colab": {}
      },
      "source": [
        "import tensorflow as tf"
      ],
      "execution_count": 0,
      "outputs": []
    },
    {
      "cell_type": "code",
      "metadata": {
        "id": "AteGX7qsjHil",
        "colab_type": "code",
        "colab": {
          "base_uri": "https://localhost:8080/",
          "height": 72
        },
        "outputId": "a0add9b8-6d8f-4ac8-b4eb-ea1bf9731a6d"
      },
      "source": [
        "path=tf.keras.utils.get_file('reviews.csv', \n",
        "                               'https://drive.google.com/uc?id=13ySLC_ue6Umt9RJYSeM2t-V0kCv-4C-P')\n",
        "print(path)"
      ],
      "execution_count": 2,
      "outputs": [
        {
          "output_type": "stream",
          "text": [
            "Downloading data from https://drive.google.com/uc?id=13ySLC_ue6Umt9RJYSeM2t-V0kCv-4C-P\n",
            "131072/127831 [==============================] - 0s 0us/step\n",
            "/root/.keras/datasets/reviews.csv\n"
          ],
          "name": "stdout"
        }
      ]
    },
    {
      "cell_type": "code",
      "metadata": {
        "id": "JXkMQOOnjZOQ",
        "colab_type": "code",
        "colab": {}
      },
      "source": [
        "import pandas as pd"
      ],
      "execution_count": 0,
      "outputs": []
    },
    {
      "cell_type": "code",
      "metadata": {
        "id": "aBtXh4N6jdZK",
        "colab_type": "code",
        "colab": {
          "base_uri": "https://localhost:8080/",
          "height": 198
        },
        "outputId": "4f9b3a58-f4ba-4d53-cc48-8be15dc404ff"
      },
      "source": [
        "dataset=pd.read_csv(path)\n",
        "dataset.head()"
      ],
      "execution_count": 4,
      "outputs": [
        {
          "output_type": "execute_result",
          "data": {
            "text/html": [
              "<div>\n",
              "<style scoped>\n",
              "    .dataframe tbody tr th:only-of-type {\n",
              "        vertical-align: middle;\n",
              "    }\n",
              "\n",
              "    .dataframe tbody tr th {\n",
              "        vertical-align: top;\n",
              "    }\n",
              "\n",
              "    .dataframe thead th {\n",
              "        text-align: right;\n",
              "    }\n",
              "</style>\n",
              "<table border=\"1\" class=\"dataframe\">\n",
              "  <thead>\n",
              "    <tr style=\"text-align: right;\">\n",
              "      <th></th>\n",
              "      <th>Unnamed: 0</th>\n",
              "      <th>text</th>\n",
              "      <th>sentiment</th>\n",
              "    </tr>\n",
              "  </thead>\n",
              "  <tbody>\n",
              "    <tr>\n",
              "      <th>0</th>\n",
              "      <td>0</td>\n",
              "      <td>So there is no way for me to plug it in here i...</td>\n",
              "      <td>0</td>\n",
              "    </tr>\n",
              "    <tr>\n",
              "      <th>1</th>\n",
              "      <td>1</td>\n",
              "      <td>Good case Excellent value.</td>\n",
              "      <td>1</td>\n",
              "    </tr>\n",
              "    <tr>\n",
              "      <th>2</th>\n",
              "      <td>2</td>\n",
              "      <td>Great for the jawbone.</td>\n",
              "      <td>1</td>\n",
              "    </tr>\n",
              "    <tr>\n",
              "      <th>3</th>\n",
              "      <td>3</td>\n",
              "      <td>Tied to charger for conversations lasting more...</td>\n",
              "      <td>0</td>\n",
              "    </tr>\n",
              "    <tr>\n",
              "      <th>4</th>\n",
              "      <td>4</td>\n",
              "      <td>The mic is great.</td>\n",
              "      <td>1</td>\n",
              "    </tr>\n",
              "  </tbody>\n",
              "</table>\n",
              "</div>"
            ],
            "text/plain": [
              "   Unnamed: 0                                               text  sentiment\n",
              "0           0  So there is no way for me to plug it in here i...          0\n",
              "1           1                         Good case Excellent value.          1\n",
              "2           2                             Great for the jawbone.          1\n",
              "3           3  Tied to charger for conversations lasting more...          0\n",
              "4           4                                  The mic is great.          1"
            ]
          },
          "metadata": {
            "tags": []
          },
          "execution_count": 4
        }
      ]
    },
    {
      "cell_type": "code",
      "metadata": {
        "id": "yPPWUX7FjmEH",
        "colab_type": "code",
        "colab": {}
      },
      "source": [
        "import tensorflow_datasets as tdf\n",
        "from tensorflow.keras.preprocessing.sequence import pad_sequences\n",
        "from tensorflow.keras.preprocessing.text import Tokenizer"
      ],
      "execution_count": 0,
      "outputs": []
    },
    {
      "cell_type": "code",
      "metadata": {
        "id": "lFh5WPLykRSp",
        "colab_type": "code",
        "colab": {}
      },
      "source": [
        "sentence=dataset['text'].tolist()\n",
        "lable=dataset['sentiment'].tolist()"
      ],
      "execution_count": 0,
      "outputs": []
    },
    {
      "cell_type": "code",
      "metadata": {
        "id": "MUgEtSmjksQU",
        "colab_type": "code",
        "colab": {
          "base_uri": "https://localhost:8080/",
          "height": 35
        },
        "outputId": "0cbc2311-09ee-4735-88b7-691b3d04613e"
      },
      "source": [
        "tokenizer=tdf.features.text.SubwordTextEncoder.build_from_corpus(sentence,1000,max_subword_length=5)\n",
        "print(tokenizer.vocab_size)"
      ],
      "execution_count": 16,
      "outputs": [
        {
          "output_type": "stream",
          "text": [
            "999\n"
          ],
          "name": "stdout"
        }
      ]
    },
    {
      "cell_type": "code",
      "metadata": {
        "id": "FA_P592ak9We",
        "colab_type": "code",
        "colab": {}
      },
      "source": [
        "for i,sentences in enumerate(sentence):\n",
        "  sentence[i]=tokenizer.encode(sentences)"
      ],
      "execution_count": 0,
      "outputs": []
    },
    {
      "cell_type": "code",
      "metadata": {
        "id": "rPQydO-NlfYk",
        "colab_type": "code",
        "colab": {
          "base_uri": "https://localhost:8080/",
          "height": 35
        },
        "outputId": "78454d9e-34f3-41d7-811c-b605806d3168"
      },
      "source": [
        "print(sentence[2])"
      ],
      "execution_count": 19,
      "outputs": [
        {
          "output_type": "stream",
          "text": [
            "[134, 775, 17, 1, 849, 179, 205, 52, 789]\n"
          ],
          "name": "stdout"
        }
      ]
    },
    {
      "cell_type": "code",
      "metadata": {
        "id": "saWS3I7Fnklb",
        "colab_type": "code",
        "colab": {}
      },
      "source": [
        "import numpy as np\n",
        "\n",
        "max_length = 50\n",
        "trunc_type='post'\n",
        "padding_type='post'\n",
        "\n",
        "pad_seq = pad_sequences(sentence , maxlen=max_length, padding=padding_type, truncating=trunc_type )"
      ],
      "execution_count": 0,
      "outputs": []
    },
    {
      "cell_type": "code",
      "metadata": {
        "id": "sbuDzru2oVnX",
        "colab_type": "code",
        "colab": {
          "base_uri": "https://localhost:8080/",
          "height": 72
        },
        "outputId": "24d6bfed-6bc2-48b6-ab6f-d7f92d566255"
      },
      "source": [
        "print(pad_seq[1])"
      ],
      "execution_count": 21,
      "outputs": [
        {
          "output_type": "stream",
          "text": [
            "[625 677 626 274 380 633 148 844 789   0   0   0   0   0   0   0   0   0\n",
            "   0   0   0   0   0   0   0   0   0   0   0   0   0   0   0   0   0   0\n",
            "   0   0   0   0   0   0   0   0   0   0   0   0   0   0]\n"
          ],
          "name": "stdout"
        }
      ]
    },
    {
      "cell_type": "code",
      "metadata": {
        "id": "jEqS49u8oagT",
        "colab_type": "code",
        "colab": {}
      },
      "source": [
        "training_size=int(len(sentence)*0.8)\n",
        "train_data=pad_seq[:training_size]\n",
        "test_data=pad_seq[training_size:]\n",
        "train_leble=lable[:training_size]\n",
        "test_lable=lable[training_size:]\n",
        "\n",
        "train_final=np.array(train_leble)\n",
        "test_final=np.array(test_lable)"
      ],
      "execution_count": 0,
      "outputs": []
    },
    {
      "cell_type": "code",
      "metadata": {
        "id": "P_YKMnD2pqmp",
        "colab_type": "code",
        "colab": {
          "base_uri": "https://localhost:8080/",
          "height": 35
        },
        "outputId": "c7e0f812-a23e-4282-baf8-721b3c60ffbe"
      },
      "source": [
        "print(train_final)"
      ],
      "execution_count": 23,
      "outputs": [
        {
          "output_type": "stream",
          "text": [
            "[0 1 1 ... 1 0 1]\n"
          ],
          "name": "stdout"
        }
      ]
    },
    {
      "cell_type": "code",
      "metadata": {
        "id": "Sh7ooiGcpttf",
        "colab_type": "code",
        "colab": {
          "base_uri": "https://localhost:8080/",
          "height": 308
        },
        "outputId": "e813a798-bac9-4bcf-9583-c3aeb5828662"
      },
      "source": [
        "model=tf.keras.models.Sequential([\n",
        "                     tf.keras.layers.Embedding(1000, 16, input_length=max_length),\n",
        "                     tf.keras.layers.Bidirectional(tf.keras.layers.LSTM(64)),\n",
        "                     tf.keras.layers.Dense(6,activation='relu'),\n",
        "                     tf.keras.layers.Dense(1,activation='sigmoid')             \n",
        "])\n",
        "model.summary()\n"
      ],
      "execution_count": 25,
      "outputs": [
        {
          "output_type": "stream",
          "text": [
            "Model: \"sequential\"\n",
            "_________________________________________________________________\n",
            "Layer (type)                 Output Shape              Param #   \n",
            "=================================================================\n",
            "embedding_1 (Embedding)      (None, 50, 16)            16000     \n",
            "_________________________________________________________________\n",
            "bidirectional_1 (Bidirection (None, 128)               41472     \n",
            "_________________________________________________________________\n",
            "dense_1 (Dense)              (None, 6)                 774       \n",
            "_________________________________________________________________\n",
            "dense_2 (Dense)              (None, 1)                 7         \n",
            "=================================================================\n",
            "Total params: 58,253\n",
            "Trainable params: 58,253\n",
            "Non-trainable params: 0\n",
            "_________________________________________________________________\n"
          ],
          "name": "stdout"
        }
      ]
    },
    {
      "cell_type": "code",
      "metadata": {
        "id": "fsFWF0qcrOuQ",
        "colab_type": "code",
        "colab": {}
      },
      "source": [
        "model.compile(optimizer='adam',loss=tf.keras.losses.BinaryCrossentropy(from_logits=True),metrics=['accuracy'])"
      ],
      "execution_count": 0,
      "outputs": []
    },
    {
      "cell_type": "code",
      "metadata": {
        "id": "jx1x-pT0rzOu",
        "colab_type": "code",
        "colab": {
          "base_uri": "https://localhost:8080/",
          "height": 1000
        },
        "outputId": "6507a88b-eb14-4d59-c2df-7cf92b5cceec"
      },
      "source": [
        "history=model.fit(train_data,train_final,epochs=30,validation_data=(test_data,test_final))\n"
      ],
      "execution_count": 34,
      "outputs": [
        {
          "output_type": "stream",
          "text": [
            "Epoch 1/30\n",
            "50/50 [==============================] - 2s 37ms/step - loss: 0.5342 - accuracy: 0.9366 - val_loss: 0.6444 - val_accuracy: 0.7619\n",
            "Epoch 2/30\n",
            "50/50 [==============================] - 2s 37ms/step - loss: 0.5354 - accuracy: 0.9272 - val_loss: 0.6373 - val_accuracy: 0.7970\n",
            "Epoch 3/30\n",
            "50/50 [==============================] - 2s 37ms/step - loss: 0.5282 - accuracy: 0.9485 - val_loss: 0.6431 - val_accuracy: 0.7820\n",
            "Epoch 4/30\n",
            "50/50 [==============================] - 2s 36ms/step - loss: 0.5242 - accuracy: 0.9554 - val_loss: 0.6575 - val_accuracy: 0.7669\n",
            "Epoch 5/30\n",
            "50/50 [==============================] - 2s 37ms/step - loss: 0.5228 - accuracy: 0.9586 - val_loss: 0.6486 - val_accuracy: 0.7744\n",
            "Epoch 6/30\n",
            "50/50 [==============================] - 2s 37ms/step - loss: 0.5217 - accuracy: 0.9605 - val_loss: 0.6602 - val_accuracy: 0.7569\n",
            "Epoch 7/30\n",
            "50/50 [==============================] - 2s 37ms/step - loss: 0.5212 - accuracy: 0.9611 - val_loss: 0.6497 - val_accuracy: 0.7694\n",
            "Epoch 8/30\n",
            "50/50 [==============================] - 2s 36ms/step - loss: 0.5209 - accuracy: 0.9611 - val_loss: 0.6513 - val_accuracy: 0.7719\n",
            "Epoch 9/30\n",
            "50/50 [==============================] - 2s 37ms/step - loss: 0.5206 - accuracy: 0.9611 - val_loss: 0.6504 - val_accuracy: 0.7694\n",
            "Epoch 10/30\n",
            "50/50 [==============================] - 2s 36ms/step - loss: 0.5203 - accuracy: 0.9611 - val_loss: 0.6502 - val_accuracy: 0.7694\n",
            "Epoch 11/30\n",
            "50/50 [==============================] - 2s 37ms/step - loss: 0.5201 - accuracy: 0.9611 - val_loss: 0.6502 - val_accuracy: 0.7694\n",
            "Epoch 12/30\n",
            "50/50 [==============================] - 2s 37ms/step - loss: 0.5199 - accuracy: 0.9611 - val_loss: 0.6499 - val_accuracy: 0.7694\n",
            "Epoch 13/30\n",
            "50/50 [==============================] - 2s 37ms/step - loss: 0.5197 - accuracy: 0.9611 - val_loss: 0.6497 - val_accuracy: 0.7694\n",
            "Epoch 14/30\n",
            "50/50 [==============================] - 2s 37ms/step - loss: 0.5195 - accuracy: 0.9611 - val_loss: 0.6496 - val_accuracy: 0.7694\n",
            "Epoch 15/30\n",
            "50/50 [==============================] - 2s 37ms/step - loss: 0.5193 - accuracy: 0.9611 - val_loss: 0.6495 - val_accuracy: 0.7694\n",
            "Epoch 16/30\n",
            "50/50 [==============================] - 2s 37ms/step - loss: 0.5191 - accuracy: 0.9611 - val_loss: 0.6494 - val_accuracy: 0.7694\n",
            "Epoch 17/30\n",
            "50/50 [==============================] - 2s 37ms/step - loss: 0.5189 - accuracy: 0.9611 - val_loss: 0.6497 - val_accuracy: 0.7694\n",
            "Epoch 18/30\n",
            "50/50 [==============================] - 2s 37ms/step - loss: 0.5187 - accuracy: 0.9611 - val_loss: 0.6495 - val_accuracy: 0.7694\n",
            "Epoch 19/30\n",
            "50/50 [==============================] - 2s 37ms/step - loss: 0.5185 - accuracy: 0.9611 - val_loss: 0.6494 - val_accuracy: 0.7694\n",
            "Epoch 20/30\n",
            "50/50 [==============================] - 2s 37ms/step - loss: 0.5184 - accuracy: 0.9611 - val_loss: 0.6496 - val_accuracy: 0.7694\n",
            "Epoch 21/30\n",
            "50/50 [==============================] - 2s 36ms/step - loss: 0.5182 - accuracy: 0.9611 - val_loss: 0.6495 - val_accuracy: 0.7694\n",
            "Epoch 22/30\n",
            "50/50 [==============================] - 2s 36ms/step - loss: 0.5180 - accuracy: 0.9611 - val_loss: 0.6498 - val_accuracy: 0.7669\n",
            "Epoch 23/30\n",
            "50/50 [==============================] - 2s 36ms/step - loss: 0.5179 - accuracy: 0.9611 - val_loss: 0.6527 - val_accuracy: 0.7719\n",
            "Epoch 24/30\n",
            "50/50 [==============================] - 2s 38ms/step - loss: 0.5175 - accuracy: 0.9617 - val_loss: 0.6523 - val_accuracy: 0.7744\n",
            "Epoch 25/30\n",
            "50/50 [==============================] - 2s 36ms/step - loss: 0.5174 - accuracy: 0.9617 - val_loss: 0.6517 - val_accuracy: 0.7719\n",
            "Epoch 26/30\n",
            "50/50 [==============================] - 2s 36ms/step - loss: 0.5172 - accuracy: 0.9617 - val_loss: 0.6512 - val_accuracy: 0.7719\n",
            "Epoch 27/30\n",
            "50/50 [==============================] - 2s 37ms/step - loss: 0.5171 - accuracy: 0.9617 - val_loss: 0.6513 - val_accuracy: 0.7719\n",
            "Epoch 28/30\n",
            "50/50 [==============================] - 2s 36ms/step - loss: 0.5169 - accuracy: 0.9617 - val_loss: 0.6511 - val_accuracy: 0.7694\n",
            "Epoch 29/30\n",
            "50/50 [==============================] - 2s 37ms/step - loss: 0.5168 - accuracy: 0.9617 - val_loss: 0.6510 - val_accuracy: 0.7694\n",
            "Epoch 30/30\n",
            "50/50 [==============================] - 2s 37ms/step - loss: 0.5167 - accuracy: 0.9617 - val_loss: 0.6507 - val_accuracy: 0.7694\n"
          ],
          "name": "stdout"
        }
      ]
    },
    {
      "cell_type": "code",
      "metadata": {
        "id": "y6i0j4lHuXmn",
        "colab_type": "code",
        "colab": {
          "base_uri": "https://localhost:8080/",
          "height": 541
        },
        "outputId": "4e06b969-8b82-45f3-e30a-4d4679eba302"
      },
      "source": [
        "import matplotlib.pyplot as plt\n",
        "epoch=30\n",
        "\n",
        "\n",
        "def plot_graphs(history, string):\n",
        "  plt.plot(history.history[string])\n",
        "  plt.plot(history.history['val_'+string])\n",
        "  plt.xlabel(\"Epochs\")\n",
        "  plt.ylabel(string)\n",
        "  plt.legend([string, 'val_'+string])\n",
        "  plt.show()\n",
        "  \n",
        "plot_graphs(history, \"accuracy\")\n",
        "plot_graphs(history, \"loss\")"
      ],
      "execution_count": 43,
      "outputs": [
        {
          "output_type": "display_data",
          "data": {
            "image/png": "[encoded data removed]",
            "text/plain": [
              "<Figure size 432x288 with 1 Axes>"
            ]
          },
          "metadata": {
            "tags": [],
            "needs_background": "light"
          }
        },
        {
          "output_type": "display_data",
          "data": {
            "image/png": "[encoded data removed]",
            "text/plain": [
              "<Figure size 432x288 with 1 Axes>"
            ]
          },
          "metadata": {
            "tags": [],
            "needs_background": "light"
          }
        }
      ]
    },
    {
      "cell_type": "code",
      "metadata": {
        "id": "c7xcpqjVvI3O",
        "colab_type": "code",
        "colab": {}
      },
      "source": [
        ""
      ],
      "execution_count": 0,
      "outputs": []
    }
  ]
}